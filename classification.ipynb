{
 "metadata": {
  "language_info": {
   "codemirror_mode": {
    "name": "ipython",
    "version": 3
   },
   "file_extension": ".py",
   "mimetype": "text/x-python",
   "name": "python",
   "nbconvert_exporter": "python",
   "pygments_lexer": "ipython3",
   "version": "3.7.4-final"
  },
  "orig_nbformat": 2,
  "kernelspec": {
   "name": "python3",
   "display_name": "Python 3",
   "language": "python"
  }
 },
 "nbformat": 4,
 "nbformat_minor": 2,
 "cells": [
  {
   "source": [
    "## Notebook to perform intent classification on the data from  https://github.com/clinc/oos-eval\n",
    "### Use data_full.json file "
   ],
   "cell_type": "markdown",
   "metadata": {}
  },
  {
   "source": [
    "### Imports"
   ],
   "cell_type": "markdown",
   "metadata": {}
  },
  {
   "cell_type": "code",
   "execution_count": 2,
   "metadata": {},
   "outputs": [],
   "source": [
    "import json\n",
    "import pandas as pd\n",
    "import numpy as np"
   ]
  },
  {
   "source": [
    "### Load the data"
   ],
   "cell_type": "markdown",
   "metadata": {}
  },
  {
   "cell_type": "code",
   "execution_count": 4,
   "metadata": {},
   "outputs": [
    {
     "output_type": "execute_result",
     "data": {
      "text/plain": [
       "                                                sent        intent\n",
       "0  does ireland have any travel alerts i should b...  travel_alert\n",
       "1  does north korea have any travel alerts i shou...  travel_alert\n",
       "2             are there any travel alerts for russia  travel_alert\n",
       "3  does spain have any travel alerts i should be ...  travel_alert\n",
       "4        are there any travel alerts for north korea  travel_alert"
      ],
      "text/html": "<div>\n<style scoped>\n    .dataframe tbody tr th:only-of-type {\n        vertical-align: middle;\n    }\n\n    .dataframe tbody tr th {\n        vertical-align: top;\n    }\n\n    .dataframe thead th {\n        text-align: right;\n    }\n</style>\n<table border=\"1\" class=\"dataframe\">\n  <thead>\n    <tr style=\"text-align: right;\">\n      <th></th>\n      <th>sent</th>\n      <th>intent</th>\n    </tr>\n  </thead>\n  <tbody>\n    <tr>\n      <td>0</td>\n      <td>does ireland have any travel alerts i should b...</td>\n      <td>travel_alert</td>\n    </tr>\n    <tr>\n      <td>1</td>\n      <td>does north korea have any travel alerts i shou...</td>\n      <td>travel_alert</td>\n    </tr>\n    <tr>\n      <td>2</td>\n      <td>are there any travel alerts for russia</td>\n      <td>travel_alert</td>\n    </tr>\n    <tr>\n      <td>3</td>\n      <td>does spain have any travel alerts i should be ...</td>\n      <td>travel_alert</td>\n    </tr>\n    <tr>\n      <td>4</td>\n      <td>are there any travel alerts for north korea</td>\n      <td>travel_alert</td>\n    </tr>\n  </tbody>\n</table>\n</div>"
     },
     "metadata": {},
     "execution_count": 4
    }
   ],
   "source": [
    "class TextData:\n",
    "    def __init__( self, file ):\n",
    "        self.file = file\n",
    "    \n",
    "    def read_json( self, set='train', cols=['sent'], target='intent' ):\n",
    "        '''\n",
    "        read the json file and obtained the in-scope set\n",
    "        '''\n",
    "        with open( self.file, 'r' ) as f:\n",
    "            data = json.load( f )\n",
    "        df = pd.DataFrame( data[set], columns=cols+[target] )\n",
    "        return df\n",
    "    \n",
    "    def random_labels( self, target='intent', n=20, seed=0 ):\n",
    "        '''\n",
    "        choose 'n' random intent classes\n",
    "        '''\n",
    "        df = self.read_json( target=target )\n",
    "        np.random.seed( seed )\n",
    "        labels = np.random.choice( df[target].unique(), size=n, replace=False )\n",
    "        labels = { val:idx for idx,val in enumerate( labels ) }\n",
    "        return labels\n",
    "    \n",
    "    def get_set( self, set, labels, target='intent' ):\n",
    "        '''\n",
    "        obtained the in-scope set of given intent classes\n",
    "        '''\n",
    "        df = self.read_json( set=set )\n",
    "        df = df[ df[target].isin( labels.keys() ) ].reset_index( drop=True )\n",
    "        return df\n",
    "    \n",
    "file = 'data_full.json'\n",
    "data = TextData( file )\n",
    "# obtain random intent classes\n",
    "labels = data.random_labels()\n",
    "\n",
    "# get the training and validation set\n",
    "train = data.get_set( 'train', labels )\n",
    "val = data.get_set( 'val', labels )\n",
    "train.head()"
   ]
  },
  {
   "cell_type": "code",
   "execution_count": null,
   "metadata": {},
   "outputs": [],
   "source": []
  }
 ]
}